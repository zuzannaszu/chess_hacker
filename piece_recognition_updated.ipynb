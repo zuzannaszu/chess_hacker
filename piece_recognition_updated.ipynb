{
 "cells": [
  {
   "cell_type": "code",
   "execution_count": 1,
   "id": "596486d6",
   "metadata": {},
   "outputs": [],
   "source": [
    "\n",
    "from matplotlib import pyplot as plt\n",
    "import matplotlib\n",
    "import numpy as np\n",
    "from PIL import Image"
   ]
  },
  {
   "cell_type": "code",
   "execution_count": 3,
   "id": "a7d4ee08",
   "metadata": {},
   "outputs": [],
   "source": [
    "\n",
    "#seq = iaa.Sequential([\n",
    "#    iaa.Flipud(0.6),  # Flip vertically with 60% probability\n",
    "#    iaa.Affine(rotate=(-20, 15)),  # Rotate image by -20 to 15 degrees\n",
    "#    iaa.GaussianBlur(sigma=(0, 2.5)),  # Apply Gaussian blur with a sigma between 0 and 2.5\n",
    "#    iaa.AdditiveGaussianNoise(scale=(0, 0.1*255)),  # Add Gaussian noise with a mean of 0 and a standard deviation between 0 and 0.1*255\n",
    "#    iaa.Crop(px=(0, 16)),  # Crop images from each side by 0 to 16 pixels\n",
    "#])\n",
    "\n",
    "\n",
    "#input_dir = \"/Users/zuzannaszubartowska/code/zuzannaszu/chess_hacker/raw_data/new_chess_data/whiterook\"\n",
    "#output_dir = \"/Users/zuzannaszubartowska/code/zuzannaszu/chess_hacker/raw_data/new_chess_data/whiterook\"\n",
    "\n",
    "# Loop through images in input directory\n",
    "#for filename in os.listdir(input_dir):\n",
    "#    if filename.endswith(\".jpeg\"):  # Only process jpg files\n",
    "#        # Load image\n",
    "#        image = cv2.imread(os.path.join(input_dir, filename))\n",
    "        \n",
    "#        # Generate augmented images\n",
    "#        images_aug = seq.augment_images([image])\n",
    "        \n",
    "#        # Save augmented images to output directory\n",
    "#        for i, image_aug in enumerate(images_aug):\n",
    "#            cv2.imwrite(os.path.join(output_dir, f\"{filename}_{i}aug2.jpeg\"), image_aug)\n"
   ]
  },
  {
   "cell_type": "code",
   "execution_count": 2,
   "id": "687c66cc",
   "metadata": {},
   "outputs": [],
   "source": [
    "import os\n",
    "import shutil\n",
    "\n",
    "# Define the source and destination folders\n",
    "src_folder = '/Users/zuzannaszubartowska/code/zuzannaszu/chess_hacker/raw_data/new_chess_data/train_data'\n",
    "dst_folder = '/Users/zuzannaszubartowska/code/zuzannaszu/chess_hacker/raw_data/new_chess_data/validation_data'\n",
    "\n",
    "# Define the list of subfolders to process\n",
    "subfolders = ['whitepawn', 'whitequeen', 'whiterook', 'whiteknight', 'whitebishop', 'whiteking',\n",
    "              'blackpawn', 'blackqueen', 'blackrook', 'blackknight', 'blackbishop', 'blackking']\n",
    "\n",
    "# Loop through each subfolder in the source folder\n",
    "for subfolder in subfolders:\n",
    "    # Get the path to the source and destination subfolders\n",
    "    src_subfolder = os.path.join(src_folder, subfolder)\n",
    "    dst_subfolder = os.path.join(dst_folder, subfolder)\n",
    "\n",
    "    # Get the list of files in the subfolder\n",
    "    files = os.listdir(src_subfolder)\n",
    "\n",
    "    # Calculate the number of files to move (half of the total)\n",
    "    num_files = len(files)\n",
    "    num_to_move = num_files // 2\n",
    "\n",
    "    # Create a new folder in the destination folder with the same name\n",
    "    os.makedirs(dst_subfolder, exist_ok=True)\n",
    "\n",
    "    # Move the first half of the files to the new folder\n",
    "    for filename in files[:num_to_move]:\n",
    "        src_file_path = os.path.join(src_subfolder, filename)\n",
    "        dst_file_path = os.path.join(dst_subfolder, filename)\n",
    "        shutil.move(src_file_path, dst_file_path)\n"
   ]
  },
  {
   "cell_type": "code",
   "execution_count": 4,
   "id": "efa05810",
   "metadata": {},
   "outputs": [],
   "source": [
    "\n",
    "#src_dir = \"/Users/zuzannaszubartowska/code/zuzannaszu/chess_hacker/raw_data/new_chess_data\"\n",
    "#test_dir = \"/Users/zuzannaszubartowska/code/zuzannaszu/chess_hacker/raw_data/new_chess_data/test_data\"\n",
    "\n",
    "#test_pct = 0.3\n",
    "\n",
    "# Loop over each subdirectory in the source directory\n",
    "#for subdir in os.listdir(src_dir):\n",
    "#    subdir_path = os.path.join(src_dir, subdir)\n",
    "#    if os.path.isdir(subdir_path):\n",
    "#        # Get a list of all files in the subdirectory\n",
    "#        files = os.listdir(subdir_path)\n",
    "\n",
    " #       # Determine the number of files to move to the test set\n",
    " #       num_files = len(files)\n",
    " #       num_test_files = int(test_pct * num_files)\n",
    "\n",
    " #       # Randomly select the files to move to the test set\n",
    " #       test_files = random.sample(files, num_test_files)\n",
    "\n",
    " #       # Move the test files to the destination directory\n",
    "  #      for filename in test_files:\n",
    "  #          src_file = os.path.join(subdir_path, filename)\n",
    "  #          dst_file = os.path.join(test_dir, filename)\n",
    "  #          shutil.move(src_file, dst_file)\n"
   ]
  },
  {
   "cell_type": "code",
   "execution_count": null,
   "id": "6ea037a9",
   "metadata": {},
   "outputs": [],
   "source": [
    "import tensorflow as tf\n",
    "from tensorflow.keras.preprocessing.image import ImageDataGenerator\n",
    "\n",
    "image_size = (480, 640)\n",
    "batch_size = 128\n",
    "\n",
    "train_dir = \"/Users/zuzannaszubartowska/code/zuzannaszu/chess_hacker/raw_data/new_chess_data/train_data\"\n",
    "test_dir = \"/Users/zuzannaszubartowska/code/zuzannaszu/chess_hacker/raw_data/new_chess_data/test_data\"\n",
    "\n",
    "num_classes = 12\n",
    "\n",
    "train_datagen = ImageDataGenerator(rescale=1./255)\n",
    "test_datagen = ImageDataGenerator(rescale=1./255)\n",
    "\n",
    "train_generator = train_datagen.flow_from_directory(\n",
    "    train_dir,\n",
    "    target_size=image_size,\n",
    "    batch_size=batch_size,\n",
    "    class_mode='categorical')\n",
    "\n",
    "test_generator = test_datagen.flow_from_directory(\n",
    "    test_dir,\n",
    "    target_size=image_size,\n",
    "    batch_size=batch_size,\n",
    "    class_mode='categorical')\n",
    "\n",
    "from tensorflow.keras import layers, models\n",
    "\n",
    "height = 480\n",
    "width = 640\n",
    "channels = 3\n",
    "num_classes = 12\n",
    "\n",
    "model = models.Sequential()\n",
    "\n",
    "model.add(layers.Conv2D(32, (3, 3), activation='relu', input_shape=(height, width, channels)))\n",
    "model.add(layers.MaxPooling2D((2, 2)))\n",
    "\n",
    "model.add(layers.Conv2D(64, (3, 3), activation='relu'))\n",
    "model.add(layers.MaxPooling2D((2, 2)))\n",
    "\n",
    "model.add(layers.Flatten())\n",
    "\n",
    "model.add(layers.Dense(32, activation='relu'))\n",
    "model.add(layers.Dense(num_classes, activation='softmax'))\n",
    "\n",
    "\n",
    "\n"
   ]
  },
  {
   "cell_type": "code",
   "execution_count": 6,
   "id": "f54ab6c0",
   "metadata": {},
   "outputs": [],
   "source": [
    "model.compile(loss='categorical_crossentropy',\n",
    "              optimizer=\"adam\",\n",
    "              metrics=['accuracy'])"
   ]
  },
  {
   "cell_type": "code",
   "execution_count": 7,
   "id": "cc2c97e5",
   "metadata": {},
   "outputs": [
    {
     "name": "stdout",
     "output_type": "stream",
     "text": [
      "Model: \"sequential\"\n",
      "_________________________________________________________________\n",
      " Layer (type)                Output Shape              Param #   \n",
      "=================================================================\n",
      " conv2d (Conv2D)             (None, 478, 638, 32)      896       \n",
      "                                                                 \n",
      " max_pooling2d (MaxPooling2D  (None, 239, 319, 32)     0         \n",
      " )                                                               \n",
      "                                                                 \n",
      " conv2d_1 (Conv2D)           (None, 237, 317, 64)      18496     \n",
      "                                                                 \n",
      " max_pooling2d_1 (MaxPooling  (None, 118, 158, 64)     0         \n",
      " 2D)                                                             \n",
      "                                                                 \n",
      " flatten (Flatten)           (None, 1193216)           0         \n",
      "                                                                 \n",
      " dense (Dense)               (None, 32)                38182944  \n",
      "                                                                 \n",
      " dense_1 (Dense)             (None, 12)                396       \n",
      "                                                                 \n",
      "=================================================================\n",
      "Total params: 38,202,732\n",
      "Trainable params: 38,202,732\n",
      "Non-trainable params: 0\n",
      "_________________________________________________________________\n"
     ]
    }
   ],
   "source": [
    "model.summary()"
   ]
  },
  {
   "cell_type": "code",
   "execution_count": 8,
   "id": "23a3ff3c",
   "metadata": {},
   "outputs": [
    {
     "name": "stdout",
     "output_type": "stream",
     "text": [
      "Epoch 1/10\n"
     ]
    },
    {
     "name": "stderr",
     "output_type": "stream",
     "text": [
      "2023-03-02 11:06:11.490801: W tensorflow/core/platform/profile_utils/cpu_utils.cc:128] Failed to get CPU frequency: 0 Hz\n"
     ]
    },
    {
     "ename": "",
     "evalue": "",
     "output_type": "error",
     "traceback": [
      "\u001b[1;31mThe Kernel crashed while executing code in the the current cell or a previous cell. Please review the code in the cell(s) to identify a possible cause of the failure. Click <a href='https://aka.ms/vscodeJupyterKernelCrash'>here</a> for more info. View Jupyter <a href='command:jupyter.viewOutput'>log</a> for further details."
     ]
    },
    {
     "ename": "",
     "evalue": "",
     "output_type": "error",
     "traceback": [
      "\u001b[1;31mCanceled future for execute_request message before replies were done"
     ]
    }
   ],
   "source": [
    "from keras.callbacks import EarlyStopping\n",
    "\n",
    "earlystop_callback = EarlyStopping(\n",
    "    monitor='val_loss', \n",
    "    min_delta=0.001, \n",
    "    patience=3, \n",
    "    verbose=1, \n",
    "    mode='auto'\n",
    ")\n",
    "\n",
    "history = model.fit(\n",
    "    train_generator,\n",
    "    steps_per_epoch=train_generator.samples // batch_size,\n",
    "    epochs=10,\n",
    "    validation_data=test_generator,\n",
    "    validation_steps=test_generator.samples // batch_size,\n",
    "    callbacks=[earlystop_callback]\n",
    ")\n",
    "\n"
   ]
  },
  {
   "cell_type": "code",
   "execution_count": null,
   "id": "c64fa1cc",
   "metadata": {},
   "outputs": [],
   "source": []
  }
 ],
 "metadata": {
  "kernelspec": {
   "display_name": "Python 3 (ipykernel)",
   "language": "python",
   "name": "python3"
  },
  "language_info": {
   "codemirror_mode": {
    "name": "ipython",
    "version": 3
   },
   "file_extension": ".py",
   "mimetype": "text/x-python",
   "name": "python",
   "nbconvert_exporter": "python",
   "pygments_lexer": "ipython3",
   "version": "3.10.6"
  },
  "toc": {
   "base_numbering": 1,
   "nav_menu": {},
   "number_sections": true,
   "sideBar": true,
   "skip_h1_title": false,
   "title_cell": "Table of Contents",
   "title_sidebar": "Contents",
   "toc_cell": false,
   "toc_position": {},
   "toc_section_display": true,
   "toc_window_display": false
  },
  "vscode": {
   "interpreter": {
    "hash": "94c75baf4423e2d03862508041d420244b9c57cbf67a2607cd7d181e2e9ed35b"
   }
  }
 },
 "nbformat": 4,
 "nbformat_minor": 5
}
