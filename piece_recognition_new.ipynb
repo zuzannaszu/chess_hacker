{
  "cells": [
    {
      "cell_type": "code",
      "execution_count": 6,
      "metadata": {
        "colab": {
          "base_uri": "https://localhost:8080/"
        },
        "id": "tetDDlvEsQdb",
        "outputId": "b33806cd-25b7-46ff-9e45-750cd8e7828c"
      },
      "outputs": [
        {
          "output_type": "stream",
          "name": "stdout",
          "text": [
            "Drive already mounted at /content/drive; to attempt to forcibly remount, call drive.mount(\"/content/drive\", force_remount=True).\n"
          ]
        }
      ],
      "source": [
        "from google.colab import drive\n",
        "drive.mount('/content/drive')\n"
      ],
      "id": "tetDDlvEsQdb"
    },
    {
      "cell_type": "code",
      "execution_count": 38,
      "metadata": {
        "colab": {
          "base_uri": "https://localhost:8080/"
        },
        "id": "6ea037a9",
        "outputId": "02a2d372-9416-4c66-eeed-201ca36c9591"
      },
      "outputs": [
        {
          "output_type": "stream",
          "name": "stdout",
          "text": [
            "Found 1017 images belonging to 12 classes.\n",
            "Found 1002 images belonging to 12 classes.\n",
            "Found 4331 images belonging to 12 classes.\n"
          ]
        }
      ],
      "source": [
        "import tensorflow as tf\n",
        "from tensorflow.keras.preprocessing.image import ImageDataGenerator\n",
        "from tensorflow.keras.regularizers import l2\n",
        "\n",
        "image_size = (480, 640)\n",
        "batch_size = 32\n",
        "\n",
        "\n",
        "train_dir = \"/content/drive/My Drive/Colab Notebooks/new_chess_data/train_data\"\n",
        "test_dir = \"/content/drive/My Drive/Colab Notebooks/new_chess_data/test_data\"\n",
        "valid_dir = \"/content/drive/My Drive/Colab Notebooks/new_chess_data/validation_data\"\n",
        "\n",
        "\n",
        "num_classes = 12\n",
        "\n",
        "train_datagen = ImageDataGenerator(rescale=1./255)\n",
        "test_datagen = ImageDataGenerator(rescale=1./255)\n",
        "validation_datagen = ImageDataGenerator(rescale=1./255)\n",
        "\n",
        "train_generator = train_datagen.flow_from_directory(\n",
        "    train_dir,\n",
        "    target_size=(480, 640),\n",
        "    batch_size=batch_size,\n",
        "    class_mode='categorical')\n",
        "\n",
        "\n",
        "validation_generator = validation_datagen.flow_from_directory(\n",
        "    valid_dir,\n",
        "    target_size=(480,640),\n",
        "    batch_size=batch_size,\n",
        "    class_mode='categorical')\n",
        "\n",
        "\n",
        "test_generator = test_datagen.flow_from_directory(\n",
        "    test_dir,\n",
        "    target_size=(480,640),\n",
        "    batch_size=batch_size,\n",
        "    class_mode='categorical')\n",
        "\n",
        "\n",
        "model = tf.keras.models.Sequential([\n",
        "    tf.keras.layers.Conv2D(32, (3, 3), activation='relu', kernel_regularizer=l2(0.001),input_shape=(480,640,3)),\n",
        "    tf.keras.layers.MaxPooling2D((2, 2)),\n",
        "    tf.keras.layers.Conv2D(64, (3, 3), activation='relu',kernel_regularizer=l2(0.001)),\n",
        "    tf.keras.layers.MaxPooling2D((2, 2)),\n",
        "    tf.keras.layers.Conv2D(128, (2, 2), activation='relu', kernel_regularizer=l2(0.001)),\n",
        "    tf.keras.layers.MaxPooling2D((2, 2)),\n",
        "    tf.keras.layers.Conv2D(128, (3, 3), activation='relu', kernel_regularizer=l2(0.001)),\n",
        "    tf.keras.layers.MaxPooling2D((2, 2)),\n",
        "    tf.keras.layers.Flatten(),\n",
        "    tf.keras.layers.Dense(128, activation='relu'),\n",
        "    tf.keras.layers.Dropout(0.6),\n",
        "    tf.keras.layers.Dense(num_classes, activation='softmax')\n",
        "    ])\n"
      ],
      "id": "6ea037a9"
    },
    {
      "cell_type": "markdown",
      "metadata": {
        "id": "A5Bmd4m2rt_r"
      },
      "source": [],
      "id": "A5Bmd4m2rt_r"
    },
    {
      "cell_type": "code",
      "execution_count": 39,
      "metadata": {
        "id": "f54ab6c0"
      },
      "outputs": [],
      "source": [
        "model.compile(loss='categorical_crossentropy',\n",
        "              optimizer='adam',\n",
        "              metrics=['accuracy'])"
      ],
      "id": "f54ab6c0"
    },
    {
      "cell_type": "code",
      "execution_count": 40,
      "metadata": {
        "colab": {
          "base_uri": "https://localhost:8080/"
        },
        "id": "cc2c97e5",
        "outputId": "70ec9893-30f6-47e0-f11a-be5056091339"
      },
      "outputs": [
        {
          "output_type": "stream",
          "name": "stdout",
          "text": [
            "Model: \"sequential_11\"\n",
            "_________________________________________________________________\n",
            " Layer (type)                Output Shape              Param #   \n",
            "=================================================================\n",
            " conv2d_47 (Conv2D)          (None, 478, 638, 32)      896       \n",
            "                                                                 \n",
            " max_pooling2d_47 (MaxPoolin  (None, 239, 319, 32)     0         \n",
            " g2D)                                                            \n",
            "                                                                 \n",
            " conv2d_48 (Conv2D)          (None, 237, 317, 64)      18496     \n",
            "                                                                 \n",
            " max_pooling2d_48 (MaxPoolin  (None, 118, 158, 64)     0         \n",
            " g2D)                                                            \n",
            "                                                                 \n",
            " conv2d_49 (Conv2D)          (None, 117, 157, 128)     32896     \n",
            "                                                                 \n",
            " max_pooling2d_49 (MaxPoolin  (None, 58, 78, 128)      0         \n",
            " g2D)                                                            \n",
            "                                                                 \n",
            " conv2d_50 (Conv2D)          (None, 56, 76, 128)       147584    \n",
            "                                                                 \n",
            " max_pooling2d_50 (MaxPoolin  (None, 28, 38, 128)      0         \n",
            " g2D)                                                            \n",
            "                                                                 \n",
            " flatten_11 (Flatten)        (None, 136192)            0         \n",
            "                                                                 \n",
            " dense_22 (Dense)            (None, 128)               17432704  \n",
            "                                                                 \n",
            " dropout_9 (Dropout)         (None, 128)               0         \n",
            "                                                                 \n",
            " dense_23 (Dense)            (None, 12)                1548      \n",
            "                                                                 \n",
            "=================================================================\n",
            "Total params: 17,634,124\n",
            "Trainable params: 17,634,124\n",
            "Non-trainable params: 0\n",
            "_________________________________________________________________\n"
          ]
        }
      ],
      "source": [
        "model.summary()"
      ],
      "id": "cc2c97e5"
    },
    {
      "cell_type": "code",
      "execution_count": 41,
      "metadata": {
        "colab": {
          "base_uri": "https://localhost:8080/"
        },
        "id": "23a3ff3c",
        "outputId": "f9fc08f1-2a9f-4002-9ced-77f91a060a31"
      },
      "outputs": [
        {
          "output_type": "stream",
          "name": "stdout",
          "text": [
            "Epoch 1/30\n",
            "31/31 [==============================] - 42s 1s/step - loss: 2.8400 - accuracy: 0.0975 - val_loss: 2.5967 - val_accuracy: 0.1351\n",
            "Epoch 2/30\n",
            "31/31 [==============================] - 33s 1s/step - loss: 2.5484 - accuracy: 0.1472 - val_loss: 2.4736 - val_accuracy: 0.1956\n",
            "Epoch 3/30\n",
            "31/31 [==============================] - 33s 1s/step - loss: 2.3742 - accuracy: 0.2081 - val_loss: 2.1684 - val_accuracy: 0.2560\n",
            "Epoch 4/30\n",
            "31/31 [==============================] - 34s 1s/step - loss: 2.1749 - accuracy: 0.2853 - val_loss: 2.0082 - val_accuracy: 0.4083\n",
            "Epoch 5/30\n",
            "31/31 [==============================] - 33s 1s/step - loss: 1.9178 - accuracy: 0.3898 - val_loss: 1.7697 - val_accuracy: 0.4859\n",
            "Epoch 6/30\n",
            "31/31 [==============================] - 33s 1s/step - loss: 1.7172 - accuracy: 0.4203 - val_loss: 1.4886 - val_accuracy: 0.5000\n",
            "Epoch 7/30\n",
            "31/31 [==============================] - 34s 1s/step - loss: 1.5203 - accuracy: 0.4883 - val_loss: 1.3245 - val_accuracy: 0.5605\n",
            "Epoch 8/30\n",
            "31/31 [==============================] - 34s 1s/step - loss: 1.4070 - accuracy: 0.5350 - val_loss: 1.2656 - val_accuracy: 0.5817\n",
            "Epoch 9/30\n",
            "31/31 [==============================] - 34s 1s/step - loss: 1.3369 - accuracy: 0.5401 - val_loss: 1.1519 - val_accuracy: 0.6220\n",
            "Epoch 10/30\n",
            "31/31 [==============================] - 34s 1s/step - loss: 1.1922 - accuracy: 0.5706 - val_loss: 1.1572 - val_accuracy: 0.6240\n",
            "Epoch 11/30\n",
            "31/31 [==============================] - 34s 1s/step - loss: 1.0703 - accuracy: 0.6213 - val_loss: 1.1122 - val_accuracy: 0.6462\n",
            "Epoch 12/30\n",
            "31/31 [==============================] - 38s 1s/step - loss: 1.0632 - accuracy: 0.6426 - val_loss: 1.0328 - val_accuracy: 0.6714\n",
            "Epoch 13/30\n",
            "31/31 [==============================] - 34s 1s/step - loss: 0.9746 - accuracy: 0.6660 - val_loss: 0.9890 - val_accuracy: 0.6895\n",
            "Epoch 14/30\n",
            "31/31 [==============================] - 33s 1s/step - loss: 0.9479 - accuracy: 0.6772 - val_loss: 0.9547 - val_accuracy: 0.7016\n",
            "Epoch 15/30\n",
            "31/31 [==============================] - 33s 1s/step - loss: 0.8870 - accuracy: 0.7046 - val_loss: 1.0513 - val_accuracy: 0.6724\n",
            "Epoch 16/30\n",
            "31/31 [==============================] - 34s 1s/step - loss: 0.8584 - accuracy: 0.7036 - val_loss: 0.9145 - val_accuracy: 0.7288\n",
            "Epoch 17/30\n",
            "31/31 [==============================] - 33s 1s/step - loss: 0.8087 - accuracy: 0.7198 - val_loss: 1.0285 - val_accuracy: 0.6825\n",
            "Epoch 18/30\n",
            "31/31 [==============================] - 33s 1s/step - loss: 0.8020 - accuracy: 0.7218 - val_loss: 0.8581 - val_accuracy: 0.7288\n",
            "Epoch 19/30\n",
            "31/31 [==============================] - ETA: 0s - loss: 0.7800 - accuracy: 0.7330Restoring model weights from the end of the best epoch: 16.\n",
            "31/31 [==============================] - 37s 1s/step - loss: 0.7800 - accuracy: 0.7330 - val_loss: 1.0529 - val_accuracy: 0.6895\n",
            "Epoch 19: early stopping\n"
          ]
        }
      ],
      "source": [
        "from keras.callbacks import EarlyStopping\n",
        "\n",
        "earlystop_callback = EarlyStopping(\n",
        "    monitor='val_accuracy', \n",
        "    min_delta=0.001, \n",
        "    patience=3, \n",
        "    verbose=1, \n",
        "    mode='auto',\n",
        "    restore_best_weights=True\n",
        ")\n",
        "\n",
        "history = model.fit(\n",
        "    train_generator,\n",
        "    steps_per_epoch=train_generator.samples // batch_size,\n",
        "    epochs=30,\n",
        "    validation_data=validation_generator,\n",
        "    validation_steps=validation_generator.samples // batch_size,\n",
        "    callbacks=[earlystop_callback]\n",
        ")\n",
        "\n"
      ],
      "id": "23a3ff3c"
    },
    {
      "cell_type": "code",
      "source": [],
      "metadata": {
        "id": "4kcIPaYoR2Y8"
      },
      "id": "4kcIPaYoR2Y8",
      "execution_count": 5,
      "outputs": []
    }
  ],
  "metadata": {
    "accelerator": "GPU",
    "colab": {
      "machine_shape": "hm",
      "provenance": []
    },
    "gpuClass": "premium",
    "kernelspec": {
      "display_name": "Python 3",
      "language": "python",
      "name": "python3"
    },
    "language_info": {
      "codemirror_mode": {
        "name": "ipython",
        "version": 3
      },
      "file_extension": ".py",
      "mimetype": "text/x-python",
      "name": "python",
      "nbconvert_exporter": "python",
      "pygments_lexer": "ipython3",
      "version": "3.10.6"
    },
    "toc": {
      "base_numbering": 1,
      "nav_menu": {},
      "number_sections": true,
      "sideBar": true,
      "skip_h1_title": false,
      "title_cell": "Table of Contents",
      "title_sidebar": "Contents",
      "toc_cell": false,
      "toc_position": {},
      "toc_section_display": true,
      "toc_window_display": false
    },
    "vscode": {
      "interpreter": {
        "hash": "94c75baf4423e2d03862508041d420244b9c57cbf67a2607cd7d181e2e9ed35b"
      }
    }
  },
  "nbformat": 4,
  "nbformat_minor": 5
}