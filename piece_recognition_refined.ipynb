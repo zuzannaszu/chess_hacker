{
  "cells": [
    {
      "cell_type": "code",
      "execution_count": 1,
      "metadata": {
        "colab": {
          "base_uri": "https://localhost:8080/"
        },
        "id": "tetDDlvEsQdb",
        "outputId": "d66b1661-a2b5-4347-8e49-ed337b0ebb8c"
      },
      "outputs": [
        {
          "output_type": "stream",
          "name": "stdout",
          "text": [
            "Drive already mounted at /content/drive; to attempt to forcibly remount, call drive.mount(\"/content/drive\", force_remount=True).\n"
          ]
        }
      ],
      "source": [
        "from google.colab import drive\n",
        "drive.mount('/content/drive')\n"
      ],
      "id": "tetDDlvEsQdb"
    },
    {
      "cell_type": "code",
      "execution_count": 2,
      "metadata": {
        "colab": {
          "base_uri": "https://localhost:8080/"
        },
        "id": "6ea037a9",
        "outputId": "e55cadf0-cb21-48b0-e954-5fc557856d81"
      },
      "outputs": [
        {
          "output_type": "stream",
          "name": "stdout",
          "text": [
            "Found 1017 images belonging to 12 classes.\n",
            "Found 1002 images belonging to 12 classes.\n",
            "Found 4331 images belonging to 12 classes.\n"
          ]
        }
      ],
      "source": [
        "import tensorflow as tf\n",
        "from tensorflow.keras.preprocessing.image import ImageDataGenerator\n",
        "from tensorflow.keras.regularizers import l2\n",
        "\n",
        "# Define image dimensions and batch size\n",
        "image_size = (480, 640)\n",
        "batch_size = 64\n",
        "\n",
        "# Define paths to train and test data directories\n",
        "train_dir = \"/content/drive/My Drive/Colab Notebooks/new_chess_data/train_data\"\n",
        "test_dir = \"/content/drive/My Drive/Colab Notebooks/new_chess_data/test_data\"\n",
        "valid_dir = \"/content/drive/My Drive/Colab Notebooks/new_chess_data/validation_data\"\n",
        "\n",
        "# Define the number of classes\n",
        "num_classes = 12\n",
        "\n",
        "# Create train and test data generators\n",
        "train_datagen = ImageDataGenerator(rescale=1./255)\n",
        "test_datagen = ImageDataGenerator(rescale=1./255)\n",
        "validation_datagen = ImageDataGenerator(rescale=1./255)\n",
        "\n",
        "train_generator = train_datagen.flow_from_directory(\n",
        "    train_dir,\n",
        "    target_size=(480, 640),\n",
        "    batch_size=batch_size,\n",
        "    class_mode='categorical')\n",
        "\n",
        "\n",
        "validation_generator = validation_datagen.flow_from_directory(\n",
        "    valid_dir,\n",
        "    target_size=(480,640),\n",
        "    batch_size=batch_size,\n",
        "    class_mode='categorical')\n",
        "\n",
        "\n",
        "test_generator = test_datagen.flow_from_directory(\n",
        "    test_dir,\n",
        "    target_size=(480,640),\n",
        "    batch_size=batch_size,\n",
        "    class_mode='categorical')\n",
        "\n",
        "\n",
        "\n",
        "# Define the model architecture\n",
        "model = tf.keras.models.Sequential([\n",
        "    tf.keras.layers.Conv2D(32, (3, 3), activation='relu', kernel_regularizer=l2(0.001),input_shape=(480,640,3)),\n",
        "    tf.keras.layers.MaxPooling2D((2, 2)),\n",
        "    tf.keras.layers.Conv2D(64, (3, 3), activation='relu',kernel_regularizer=l2(0.001)),\n",
        "    tf.keras.layers.MaxPooling2D((2, 2)),\n",
        "    tf.keras.layers.Conv2D(128, (3, 3), activation='relu', kernel_regularizer=l2(0.001)),\n",
        "    tf.keras.layers.MaxPooling2D((2, 2)),\n",
        "    tf.keras.layers.Flatten(),\n",
        "    tf.keras.layers.Dense(128, activation='relu'),\n",
        "    tf.keras.layers.Dense(num_classes, activation='softmax')\n",
        "    ])\n"
      ],
      "id": "6ea037a9"
    },
    {
      "cell_type": "markdown",
      "metadata": {
        "id": "A5Bmd4m2rt_r"
      },
      "source": [],
      "id": "A5Bmd4m2rt_r"
    },
    {
      "cell_type": "code",
      "execution_count": 3,
      "metadata": {
        "id": "f54ab6c0"
      },
      "outputs": [],
      "source": [
        "model.compile(loss='categorical_crossentropy',\n",
        "              optimizer='adam',\n",
        "              metrics=['accuracy'])"
      ],
      "id": "f54ab6c0"
    },
    {
      "cell_type": "code",
      "execution_count": 4,
      "metadata": {
        "colab": {
          "base_uri": "https://localhost:8080/"
        },
        "id": "cc2c97e5",
        "outputId": "404bb812-176d-4caa-de2b-12641af10c38"
      },
      "outputs": [
        {
          "output_type": "stream",
          "name": "stdout",
          "text": [
            "Model: \"sequential\"\n",
            "_________________________________________________________________\n",
            " Layer (type)                Output Shape              Param #   \n",
            "=================================================================\n",
            " conv2d (Conv2D)             (None, 478, 638, 32)      896       \n",
            "                                                                 \n",
            " max_pooling2d (MaxPooling2D  (None, 239, 319, 32)     0         \n",
            " )                                                               \n",
            "                                                                 \n",
            " conv2d_1 (Conv2D)           (None, 237, 317, 64)      18496     \n",
            "                                                                 \n",
            " max_pooling2d_1 (MaxPooling  (None, 118, 158, 64)     0         \n",
            " 2D)                                                             \n",
            "                                                                 \n",
            " conv2d_2 (Conv2D)           (None, 116, 156, 128)     73856     \n",
            "                                                                 \n",
            " max_pooling2d_2 (MaxPooling  (None, 58, 78, 128)      0         \n",
            " 2D)                                                             \n",
            "                                                                 \n",
            " flatten (Flatten)           (None, 579072)            0         \n",
            "                                                                 \n",
            " dense (Dense)               (None, 128)               74121344  \n",
            "                                                                 \n",
            " dense_1 (Dense)             (None, 12)                1548      \n",
            "                                                                 \n",
            "=================================================================\n",
            "Total params: 74,216,140\n",
            "Trainable params: 74,216,140\n",
            "Non-trainable params: 0\n",
            "_________________________________________________________________\n"
          ]
        }
      ],
      "source": [
        "model.summary()"
      ],
      "id": "cc2c97e5"
    },
    {
      "cell_type": "code",
      "execution_count": 5,
      "metadata": {
        "colab": {
          "base_uri": "https://localhost:8080/"
        },
        "id": "23a3ff3c",
        "outputId": "a3d2ae7d-1a4c-4a42-a863-d35e67664a96"
      },
      "outputs": [
        {
          "output_type": "stream",
          "name": "stdout",
          "text": [
            "Epoch 1/40\n",
            "15/15 [==============================] - 45s 3s/step - loss: 5.8693 - accuracy: 0.1039 - val_loss: 2.6117 - val_accuracy: 0.0990\n",
            "Epoch 2/40\n",
            "15/15 [==============================] - 33s 2s/step - loss: 2.4399 - accuracy: 0.1721 - val_loss: 2.2612 - val_accuracy: 0.2427\n",
            "Epoch 3/40\n",
            "15/15 [==============================] - 37s 3s/step - loss: 2.0092 - accuracy: 0.3893 - val_loss: 1.8909 - val_accuracy: 0.3990\n",
            "Epoch 4/40\n",
            "15/15 [==============================] - 33s 2s/step - loss: 1.5160 - accuracy: 0.5362 - val_loss: 2.0722 - val_accuracy: 0.3760\n",
            "Epoch 5/40\n",
            "15/15 [==============================] - 32s 2s/step - loss: 1.2039 - accuracy: 0.5939 - val_loss: 1.5067 - val_accuracy: 0.5115\n",
            "Epoch 6/40\n",
            "15/15 [==============================] - 33s 2s/step - loss: 0.8886 - accuracy: 0.7125 - val_loss: 1.6574 - val_accuracy: 0.5406\n",
            "Epoch 7/40\n",
            "15/15 [==============================] - 33s 2s/step - loss: 0.6582 - accuracy: 0.8080 - val_loss: 1.7304 - val_accuracy: 0.5375\n",
            "Epoch 8/40\n",
            "15/15 [==============================] - 32s 2s/step - loss: 0.5479 - accuracy: 0.8374 - val_loss: 1.8867 - val_accuracy: 0.5312\n",
            "Epoch 9/40\n",
            "15/15 [==============================] - 34s 2s/step - loss: 0.4861 - accuracy: 0.8772 - val_loss: 1.8013 - val_accuracy: 0.5771\n",
            "Epoch 10/40\n",
            "15/15 [==============================] - 33s 2s/step - loss: 0.3787 - accuracy: 0.9108 - val_loss: 1.8259 - val_accuracy: 0.5938\n",
            "Epoch 11/40\n",
            "15/15 [==============================] - 32s 2s/step - loss: 0.3308 - accuracy: 0.9182 - val_loss: 1.7160 - val_accuracy: 0.6229\n",
            "Epoch 12/40\n",
            "15/15 [==============================] - 32s 2s/step - loss: 0.3253 - accuracy: 0.9255 - val_loss: 2.3412 - val_accuracy: 0.5500\n",
            "Epoch 13/40\n",
            "15/15 [==============================] - 32s 2s/step - loss: 0.3191 - accuracy: 0.9276 - val_loss: 2.1294 - val_accuracy: 0.5698\n",
            "Epoch 14/40\n",
            "15/15 [==============================] - ETA: 0s - loss: 0.3107 - accuracy: 0.9339Restoring model weights from the end of the best epoch: 11.\n",
            "15/15 [==============================] - 33s 2s/step - loss: 0.3107 - accuracy: 0.9339 - val_loss: 2.3847 - val_accuracy: 0.5771\n",
            "Epoch 14: early stopping\n"
          ]
        }
      ],
      "source": [
        "from keras.callbacks import EarlyStopping\n",
        "\n",
        "earlystop_callback = EarlyStopping(\n",
        "    monitor='val_accuracy', \n",
        "    min_delta=0.001, \n",
        "    patience=3, \n",
        "    verbose=1, \n",
        "    mode='auto',\n",
        "    restore_best_weights=True\n",
        ")\n",
        "\n",
        "history = model.fit(\n",
        "    train_generator,\n",
        "    steps_per_epoch=train_generator.samples // batch_size,\n",
        "    epochs=40,\n",
        "    validation_data=validation_generator,\n",
        "    validation_steps=validation_generator.samples // batch_size,\n",
        "    callbacks=[earlystop_callback]\n",
        ")\n",
        "\n"
      ],
      "id": "23a3ff3c"
    },
    {
      "cell_type": "code",
      "source": [],
      "metadata": {
        "id": "4kcIPaYoR2Y8"
      },
      "id": "4kcIPaYoR2Y8",
      "execution_count": null,
      "outputs": []
    }
  ],
  "metadata": {
    "accelerator": "GPU",
    "colab": {
      "machine_shape": "hm",
      "provenance": []
    },
    "gpuClass": "premium",
    "kernelspec": {
      "display_name": "Python 3",
      "language": "python",
      "name": "python3"
    },
    "language_info": {
      "codemirror_mode": {
        "name": "ipython",
        "version": 3
      },
      "file_extension": ".py",
      "mimetype": "text/x-python",
      "name": "python",
      "nbconvert_exporter": "python",
      "pygments_lexer": "ipython3",
      "version": "3.10.6"
    },
    "toc": {
      "base_numbering": 1,
      "nav_menu": {},
      "number_sections": true,
      "sideBar": true,
      "skip_h1_title": false,
      "title_cell": "Table of Contents",
      "title_sidebar": "Contents",
      "toc_cell": false,
      "toc_position": {},
      "toc_section_display": true,
      "toc_window_display": false
    },
    "vscode": {
      "interpreter": {
        "hash": "94c75baf4423e2d03862508041d420244b9c57cbf67a2607cd7d181e2e9ed35b"
      }
    }
  },
  "nbformat": 4,
  "nbformat_minor": 5
}