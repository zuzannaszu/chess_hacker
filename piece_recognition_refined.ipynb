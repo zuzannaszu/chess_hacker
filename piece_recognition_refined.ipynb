{
 "cells": [
  {
   "cell_type": "code",
   "execution_count": 1,
   "id": "596486d6",
   "metadata": {},
   "outputs": [],
   "source": [
    "import cv2\n",
    "from matplotlib import pyplot as plt\n",
    "import matplotlib\n",
    "import numpy as np\n",
    "from PIL import Image"
   ]
  },
  {
   "cell_type": "code",
   "execution_count": 28,
   "id": "a7d4ee08",
   "metadata": {},
   "outputs": [],
   "source": [
    "\n",
    "#seq = iaa.Sequential([\n",
    "#    iaa.Flipud(0.6),  # Flip vertically with 60% probability\n",
    "#    iaa.Affine(rotate=(-20, 15)),  # Rotate image by -20 to 15 degrees\n",
    "#    iaa.GaussianBlur(sigma=(0, 2.5)),  # Apply Gaussian blur with a sigma between 0 and 2.5\n",
    "#    iaa.AdditiveGaussianNoise(scale=(0, 0.1*255)),  # Add Gaussian noise with a mean of 0 and a standard deviation between 0 and 0.1*255\n",
    "#    iaa.Crop(px=(0, 16)),  # Crop images from each side by 0 to 16 pixels\n",
    "#])\n",
    "\n",
    "\n",
    "#input_dir = \"/Users/zuzannaszubartowska/code/zuzannaszu/chess_hacker/raw_data/new_chess_data/whiterook\"\n",
    "#output_dir = \"/Users/zuzannaszubartowska/code/zuzannaszu/chess_hacker/raw_data/new_chess_data/whiterook\"\n",
    "\n",
    "# Loop through images in input directory\n",
    "#for filename in os.listdir(input_dir):\n",
    "#    if filename.endswith(\".jpeg\"):  # Only process jpg files\n",
    "#        # Load image\n",
    "#        image = cv2.imread(os.path.join(input_dir, filename))\n",
    "        \n",
    "#        # Generate augmented images\n",
    "#        images_aug = seq.augment_images([image])\n",
    "        \n",
    "#        # Save augmented images to output directory\n",
    "#        for i, image_aug in enumerate(images_aug):\n",
    "#            cv2.imwrite(os.path.join(output_dir, f\"{filename}_{i}aug2.jpeg\"), image_aug)\n"
   ]
  },
  {
   "cell_type": "code",
   "execution_count": 35,
   "id": "efa05810",
   "metadata": {},
   "outputs": [],
   "source": [
    "\n",
    "#src_dir = \"/Users/zuzannaszubartowska/code/zuzannaszu/chess_hacker/raw_data/new_chess_data\"\n",
    "#test_dir = \"/Users/zuzannaszubartowska/code/zuzannaszu/chess_hacker/raw_data/new_chess_data/test_data\"\n",
    "\n",
    "#test_pct = 0.3\n",
    "\n",
    "# Loop over each subdirectory in the source directory\n",
    "#for subdir in os.listdir(src_dir):\n",
    "#    subdir_path = os.path.join(src_dir, subdir)\n",
    "#    if os.path.isdir(subdir_path):\n",
    "#        # Get a list of all files in the subdirectory\n",
    "#        files = os.listdir(subdir_path)\n",
    "\n",
    " #       # Determine the number of files to move to the test set\n",
    " #       num_files = len(files)\n",
    " #       num_test_files = int(test_pct * num_files)\n",
    "\n",
    " #       # Randomly select the files to move to the test set\n",
    " #       test_files = random.sample(files, num_test_files)\n",
    "\n",
    " #       # Move the test files to the destination directory\n",
    "  #      for filename in test_files:\n",
    "  #          src_file = os.path.join(subdir_path, filename)\n",
    "  #          dst_file = os.path.join(test_dir, filename)\n",
    "  #          shutil.move(src_file, dst_file)\n"
   ]
  },
  {
   "cell_type": "code",
   "execution_count": 2,
   "id": "6ea037a9",
   "metadata": {},
   "outputs": [
    {
     "name": "stdout",
     "output_type": "stream",
     "text": [
      "Found 2019 images belonging to 12 classes.\n",
      "Found 4733 images belonging to 12 classes.\n"
     ]
    }
   ],
   "source": [
    "import tensorflow as tf\n",
    "from tensorflow.keras.preprocessing.image import ImageDataGenerator\n",
    "\n",
    "image_size = (960, 1280)\n",
    "batch_size = 128\n",
    "\n",
    "train_dir = \"/Users/zuzannaszubartowska/code/zuzannaszu/chess_hacker/raw_data/new_chess_data/train_data\"\n",
    "test_dir = \"/Users/zuzannaszubartowska/code/zuzannaszu/chess_hacker/raw_data/new_chess_data/test_data\"\n",
    "\n",
    "num_classes = 12\n",
    "\n",
    "train_datagen = ImageDataGenerator(rescale=1./255)\n",
    "test_datagen = ImageDataGenerator(rescale=1./255)\n",
    "\n",
    "train_generator = train_datagen.flow_from_directory(\n",
    "    train_dir,\n",
    "    target_size=image_size,\n",
    "    batch_size=batch_size,\n",
    "    class_mode='categorical')\n",
    "\n",
    "test_generator = test_datagen.flow_from_directory(\n",
    "    test_dir,\n",
    "    target_size=image_size,\n",
    "    batch_size=batch_size,\n",
    "    class_mode='categorical')\n",
    "\n",
    "model = tf.keras.models.Sequential([\n",
    "    tf.keras.layers.Conv2D(32, (3, 3), activation='relu', input_shape=(960, 1280, 3)),\n",
    "    tf.keras.layers.MaxPooling2D(2, 2),\n",
    "    tf.keras.layers.Conv2D(64, (3, 3), activation='relu'),\n",
    "    tf.keras.layers.MaxPooling2D(2, 2),\n",
    "    tf.keras.layers.Conv2D(128, (3, 3), activation='relu'),\n",
    "    tf.keras.layers.MaxPooling2D(2, 2),\n",
    "    tf.keras.layers.Flatten(),\n",
    "    tf.keras.layers.Dense(512, activation='relu'),\n",
    "    tf.keras.layers.Dense(num_classes, activation='softmax')\n",
    "])\n",
    "\n",
    "\n"
   ]
  },
  {
   "cell_type": "code",
   "execution_count": 3,
   "id": "f54ab6c0",
   "metadata": {},
   "outputs": [],
   "source": [
    "model.compile(loss='categorical_crossentropy',\n",
    "              optimizer=tf.keras.optimizers.Adam(),\n",
    "              metrics=['accuracy'])"
   ]
  },
  {
   "cell_type": "code",
   "execution_count": 4,
   "id": "cc2c97e5",
   "metadata": {},
   "outputs": [
    {
     "name": "stdout",
     "output_type": "stream",
     "text": [
      "Model: \"sequential\"\n",
      "_________________________________________________________________\n",
      " Layer (type)                Output Shape              Param #   \n",
      "=================================================================\n",
      " conv2d (Conv2D)             (None, 958, 1278, 32)     896       \n",
      "                                                                 \n",
      " max_pooling2d (MaxPooling2D  (None, 479, 639, 32)     0         \n",
      " )                                                               \n",
      "                                                                 \n",
      " conv2d_1 (Conv2D)           (None, 477, 637, 64)      18496     \n",
      "                                                                 \n",
      " max_pooling2d_1 (MaxPooling  (None, 238, 318, 64)     0         \n",
      " 2D)                                                             \n",
      "                                                                 \n",
      " conv2d_2 (Conv2D)           (None, 236, 316, 128)     73856     \n",
      "                                                                 \n",
      " max_pooling2d_2 (MaxPooling  (None, 118, 158, 128)    0         \n",
      " 2D)                                                             \n",
      "                                                                 \n",
      " flatten (Flatten)           (None, 2386432)           0         \n",
      "                                                                 \n",
      " dense (Dense)               (None, 512)               1221853696\n",
      "                                                                 \n",
      " dense_1 (Dense)             (None, 12)                6156      \n",
      "                                                                 \n",
      "=================================================================\n",
      "Total params: 1,221,953,100\n",
      "Trainable params: 1,221,953,100\n",
      "Non-trainable params: 0\n",
      "_________________________________________________________________\n"
     ]
    }
   ],
   "source": [
    "model.summary()"
   ]
  },
  {
   "cell_type": "code",
   "execution_count": null,
   "id": "23a3ff3c",
   "metadata": {},
   "outputs": [
    {
     "name": "stdout",
     "output_type": "stream",
     "text": [
      "Epoch 1/10\n"
     ]
    },
    {
     "name": "stderr",
     "output_type": "stream",
     "text": [
      "2023-03-01 12:48:57.219873: W tensorflow/tsl/platform/profile_utils/cpu_utils.cc:128] Failed to get CPU frequency: 0 Hz\n"
     ]
    }
   ],
   "source": [
    "history = model.fit(\n",
    "    train_generator,\n",
    "    steps_per_epoch=train_generator.samples // batch_size,\n",
    "    epochs=10,\n",
    "    validation_data=test_generator,\n",
    "    validation_steps=test_generator.samples // batch_size\n",
    ")"
   ]
  },
  {
   "cell_type": "code",
   "execution_count": null,
   "id": "5c0c5082",
   "metadata": {},
   "outputs": [],
   "source": []
  }
 ],
 "metadata": {
  "kernelspec": {
   "display_name": "Python 3 (ipykernel)",
   "language": "python",
   "name": "python3"
  },
  "language_info": {
   "codemirror_mode": {
    "name": "ipython",
    "version": 3
   },
   "file_extension": ".py",
   "mimetype": "text/x-python",
   "name": "python",
   "nbconvert_exporter": "python",
   "pygments_lexer": "ipython3",
   "version": "3.10.6"
  },
  "toc": {
   "base_numbering": 1,
   "nav_menu": {},
   "number_sections": true,
   "sideBar": true,
   "skip_h1_title": false,
   "title_cell": "Table of Contents",
   "title_sidebar": "Contents",
   "toc_cell": false,
   "toc_position": {},
   "toc_section_display": true,
   "toc_window_display": false
  }
 },
 "nbformat": 4,
 "nbformat_minor": 5
}
